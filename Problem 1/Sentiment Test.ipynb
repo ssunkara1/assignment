{
 "cells": [
  {
   "cell_type": "code",
   "execution_count": 1,
   "metadata": {
    "collapsed": true
   },
   "outputs": [],
   "source": [
    "import pandas as pd\n",
    "import datetime as dt"
   ]
  },
  {
   "cell_type": "code",
   "execution_count": 2,
   "metadata": {
    "collapsed": true
   },
   "outputs": [],
   "source": [
    "gdp_data = pd.read_csv('./real_gdp_data.csv', index_col=0, parse_dates=[0])\n",
    "gdp_data.columns = ['GDP']"
   ]
  },
  {
   "cell_type": "code",
   "execution_count": 3,
   "metadata": {
    "collapsed": false
   },
   "outputs": [],
   "source": [
    "sentiment_data = pd.read_csv('./mich_sentiment.csv', skiprows=[0, 1, 2, 4])\n",
    "sentiment_data_dates = sentiment_data.dropna(subset=['Date'], axis=0).iloc[:1573]\n",
    "sentiment_data_dates.loc[:, 'Date'] = pd.to_datetime(sentiment_data_dates['Date'])\n",
    "\n",
    "sentiment_data_cleaned = sentiment_data_dates.set_index('Date')\n",
    "sentiment_data_cleaned = sentiment_data_cleaned.iloc[:, :3].dropna(axis=0)\n",
    "\n",
    "for c in sentiment_data_cleaned.columns:\n",
    "    sentiment_data_cleaned.loc[:, c] = sentiment_data_cleaned[c].str.replace('%', '').astype(float)\n",
    "    \n",
    "sent_data_q = sentiment_data_cleaned.resample('Q').mean()\n",
    "sent_data_q = sent_data_q.reset_index()\n",
    "sent_data_q['Date'] = sent_data_q['Date'].apply(lambda x: x + dt.timedelta(days=1))\n",
    "sent_data_q = sent_data_q.set_index('Date')"
   ]
  },
  {
   "cell_type": "code",
   "execution_count": 4,
   "metadata": {
    "collapsed": false
   },
   "outputs": [],
   "source": [
    "final_data = pd.concat([sent_data_q, gdp_data],axis=1).dropna()"
   ]
  },
  {
   "cell_type": "code",
   "execution_count": 5,
   "metadata": {
    "collapsed": false
   },
   "outputs": [
    {
     "name": "stdout",
     "output_type": "stream",
     "text": [
      "R-Squared of Linear Regression Model: 0.247830693802\n"
     ]
    }
   ],
   "source": [
    "from sklearn.linear_model import LinearRegression\n",
    "\n",
    "X_data = final_data.iloc[:, :3]\n",
    "y_data = final_data.iloc[:, -1]\n",
    "\n",
    "lin_mod = LinearRegression()\n",
    "_ = lin_mod.fit(X_data, y_data)\n",
    "\n",
    "print('R-Squared of Linear Regression Model:', lin_mod.score(X_data, y_data))"
   ]
  }
 ],
 "metadata": {
  "kernelspec": {
   "display_name": "Python [conda root]",
   "language": "python",
   "name": "conda-root-py"
  },
  "language_info": {
   "codemirror_mode": {
    "name": "ipython",
    "version": 3
   },
   "file_extension": ".py",
   "mimetype": "text/x-python",
   "name": "python",
   "nbconvert_exporter": "python",
   "pygments_lexer": "ipython3",
   "version": "3.5.2"
  }
 },
 "nbformat": 4,
 "nbformat_minor": 2
}
