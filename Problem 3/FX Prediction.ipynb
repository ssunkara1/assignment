{
 "cells": [
  {
   "cell_type": "code",
   "execution_count": 1,
   "metadata": {
    "collapsed": true,
    "deletable": true,
    "editable": true
   },
   "outputs": [],
   "source": [
    "import pandas as pd"
   ]
  },
  {
   "cell_type": "code",
   "execution_count": 2,
   "metadata": {
    "collapsed": false,
    "deletable": true,
    "editable": true
   },
   "outputs": [],
   "source": [
    "## Fetching the interest rate data:\n",
    "\n",
    "long_term_libor = pd.read_csv('./long_term_libor.csv', parse_dates=[0], index_col=0)\n",
    "rates_data = long_term_libor[['GBP12MD156N', 'USD12MD156N']]\n",
    "rates_data = rates_data / 100.\n",
    "rates_data['Date String'] = rates_data.reset_index()['DATE'].apply(lambda x: str(x.year) + ' Q' + str((x.month - 1) // 3 + 1)).values\n",
    "\n",
    "rates = rates_data.groupby('Date String').mean()\n",
    "\n",
    "## rate_diff is the difference in the LIBOR of GBP and USD\n",
    "rate_diff = rates.diff(axis=1).iloc[:, -1]"
   ]
  },
  {
   "cell_type": "code",
   "execution_count": 3,
   "metadata": {
    "collapsed": false,
    "deletable": true,
    "editable": true
   },
   "outputs": [],
   "source": [
    "## Fetching inflation data:\n",
    "\n",
    "uk_cpi_data = pd.read_csv('uk_cpi_history_reduced.csv', index_col=0)\n",
    "uk_cpi_cleaned = uk_cpi_data.dropna().loc['1998 Q1':'2017 Q2']\n",
    "\n",
    "us_cpi_data = pd.read_csv('us_cpi_history.csv', index_col=0, parse_dates=[0]).resample('Q').mean().reset_index()\n",
    "us_cpi_data['Date Str'] = us_cpi_data['DATE'].apply(lambda x: str(x.year) + ' Q' + str((x.month - 1) // 3 + 1))\n",
    "us_cpi_cleaned = us_cpi_data.set_index('Date Str').drop('DATE', axis=1)\n",
    "us_cpi_cleaned = us_cpi_cleaned.loc['1998 Q1':'2017 Q2']\n",
    "\n",
    "merged_cpi = uk_cpi_cleaned.merge(us_cpi_cleaned, left_index=True, right_index=True)\n",
    "merged_cpi.columns = ['UK CPI', 'US CPI']\n",
    "\n",
    "inflation_pct = merged_cpi.pct_change()[1:]\n",
    "inflation_diff = inflation_pct.diff(axis=1).iloc[:, -1]"
   ]
  },
  {
   "cell_type": "code",
   "execution_count": 4,
   "metadata": {
    "collapsed": false
   },
   "outputs": [],
   "source": [
    "## Fetching Currency data:\n",
    "\n",
    "gbpusd_curncy = pd.read_csv('./gbpusd_curncy.csv', index_col=0, parse_dates=[0])\n",
    "\n",
    "gbpusd_curncy = gbpusd_curncy.reset_index()\n",
    "gbpusd_curncy['Date Str'] = gbpusd_curncy['index'].apply(lambda x: str(x.year) + ' Q' + str((x.month - 1) // 3 + 1)) \n",
    "gbpusd_curncy = gbpusd_curncy.groupby('Date Str').mean()"
   ]
  },
  {
   "cell_type": "code",
   "execution_count": 5,
   "metadata": {
    "collapsed": false
   },
   "outputs": [
    {
     "name": "stdout",
     "output_type": "stream",
     "text": [
      "ADF test P-value of FX is: 0.5533753641605825\n",
      "ADF test P-value of Inflation is: 0.4114191140893389\n",
      "ADF test P-value of Nominal Rates is: 0.2952554658163977\n"
     ]
    },
    {
     "name": "stderr",
     "output_type": "stream",
     "text": [
      "C:\\Users\\ssunkara1\\AppData\\Local\\Continuum\\Anaconda3\\lib\\site-packages\\statsmodels\\compat\\pandas.py:56: FutureWarning: The pandas.core.datetools module is deprecated and will be removed in a future version. Please use the pandas.tseries module instead.\n",
      "  from pandas.core import datetools\n"
     ]
    }
   ],
   "source": [
    "merged_data = gbpusd_curncy.join(inflation_diff, how='inner').join(rate_diff, how='inner')\n",
    "merged_data.columns = ['FX', 'Inflation', 'Nominal Rates']\n",
    "\n",
    "import statsmodels.tsa.stattools as ts\n",
    "\n",
    "for c in merged_data.columns:\n",
    "    adf_test_res = ts.adfuller(merged_data[c])\n",
    "    print('ADF test P-value of {0} is: {1}'.format(c, adf_test_res[1]))"
   ]
  },
  {
   "cell_type": "code",
   "execution_count": 7,
   "metadata": {
    "collapsed": false
   },
   "outputs": [
    {
     "name": "stdout",
     "output_type": "stream",
     "text": [
      "ADF test P-value of Residuals is: 0.038957476888938004\n"
     ]
    }
   ],
   "source": [
    "X = merged_data.iloc[:, 1:]\n",
    "y = merged_data.iloc[:, 0]\n",
    "\n",
    "import statsmodels.api as sm\n",
    "X_total = sm.add_constant(X)\n",
    "\n",
    "ols_res = sm.OLS(y, X).fit()\n",
    "adf_test = ts.adfuller(ols_res.resid)\n",
    "print('ADF test P-value of Residuals is: {0}'.format(adf_test[1]))"
   ]
  },
  {
   "cell_type": "code",
   "execution_count": 8,
   "metadata": {
    "collapsed": false
   },
   "outputs": [
    {
     "name": "stdout",
     "output_type": "stream",
     "text": [
      "Mean Return: 85.51%, Vol: 77.25%\n"
     ]
    }
   ],
   "source": [
    "## pairs trading:\n",
    "st_dev = ols_res.resid.std()\n",
    "stan_resid = (ols_res.resid - ols_res.resid.mean())\n",
    "\n",
    "import numpy as np\n",
    "enter_cutoff = st_dev * 0.75\n",
    "close_cutoff = 0.1\n",
    "state = 'None' # this can be Long Short or None\n",
    "start_val = 0.\n",
    "close_val = 0.\n",
    "returns = []\n",
    "\n",
    "for i in stan_resid.index:\n",
    "    entry = stan_resid.loc[i]\n",
    "    \n",
    "    if state == 'None':\n",
    "        if entry > enter_cutoff:\n",
    "            state = 'Short'\n",
    "            start_val = entry\n",
    "        elif entry < (-enter_cutoff):\n",
    "            state = 'Long'\n",
    "            start_val = entry\n",
    "        else:\n",
    "            start_val = 0.\n",
    "            \n",
    "    elif state == 'Short':\n",
    "        if entry < close_cutoff:\n",
    "            state = 'None'\n",
    "            close_val = entry\n",
    "            returns.append((start_val - close_val) / abs(start_val))\n",
    "\n",
    "    elif state == 'Long':\n",
    "        if entry > (close_cutoff * -1):\n",
    "            state = 'None'\n",
    "            close_val = entry\n",
    "            returns.append((close_val - start_val) / abs(start_val))\n",
    "            \n",
    "## handle pnl at end of trading\n",
    "if state != 'None':\n",
    "    multiple = -1 if state == 'Short' else 1\n",
    "    returns.append((entry - start_val) / abs(start_val) * multiple)\n",
    "    \n",
    "print('Mean Return: {:.2%}, Vol: {:.2%}'.format(np.mean(returns), np.std(returns)))"
   ]
  },
  {
   "cell_type": "code",
   "execution_count": null,
   "metadata": {
    "collapsed": true
   },
   "outputs": [],
   "source": []
  }
 ],
 "metadata": {
  "kernelspec": {
   "display_name": "Python [conda root]",
   "language": "python",
   "name": "conda-root-py"
  },
  "language_info": {
   "codemirror_mode": {
    "name": "ipython",
    "version": 3
   },
   "file_extension": ".py",
   "mimetype": "text/x-python",
   "name": "python",
   "nbconvert_exporter": "python",
   "pygments_lexer": "ipython3",
   "version": "3.5.4"
  }
 },
 "nbformat": 4,
 "nbformat_minor": 2
}
