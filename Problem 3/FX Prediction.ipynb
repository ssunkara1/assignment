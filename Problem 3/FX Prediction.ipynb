{
 "cells": [
  {
   "cell_type": "code",
   "execution_count": 1,
   "metadata": {
    "collapsed": true
   },
   "outputs": [],
   "source": [
    "import pandas as pd"
   ]
  },
  {
   "cell_type": "code",
   "execution_count": 2,
   "metadata": {
    "collapsed": false
   },
   "outputs": [],
   "source": [
    "long_term_libor = pd.read_csv('./long_term_libor.csv', parse_dates=[0], index_col=0)\n",
    "rates_data = long_term_libor[['GBP12MD156N', 'USD12MD156N']]\n",
    "rates_data = rates_data / 100.\n",
    "rates_data['Date String'] = rates_data.reset_index()['DATE'].apply(lambda x: str(x.year) + ' Q' + str((x.month - 1) // 3 + 1)).values\n",
    "\n",
    "rates = rates_data.groupby('Date String').mean()\n",
    "rate_diff = rates.diff(axis=1).iloc[:, -1]"
   ]
  },
  {
   "cell_type": "code",
   "execution_count": 3,
   "metadata": {
    "collapsed": false
   },
   "outputs": [],
   "source": [
    "uk_cpi_data = pd.read_csv('uk_cpi_history_reduced.csv', index_col=0)\n",
    "uk_cpi_cleaned = uk_cpi_data.dropna().loc['1998 Q1':'2017 Q2']\n",
    "\n",
    "us_cpi_data = pd.read_csv('us_cpi_history.csv', index_col=0, parse_dates=[0]).resample('Q').mean().reset_index()\n",
    "us_cpi_data['Date Str'] = us_cpi_data['DATE'].apply(lambda x: str(x.year) + ' Q' + str((x.month - 1) // 3 + 1))\n",
    "us_cpi_cleaned = us_cpi_data.set_index('Date Str').drop('DATE', axis=1)\n",
    "us_cpi_cleaned = us_cpi_cleaned.loc['1998 Q1':'2017 Q2']\n",
    "\n",
    "merged_cpi = uk_cpi_cleaned.merge(us_cpi_cleaned, left_index=True, right_index=True)\n",
    "merged_cpi.columns = ['UK CPI', 'US CPI']\n",
    "\n",
    "inflation_pct = merged_cpi.pct_change()[1:]"
   ]
  },
  {
   "cell_type": "code",
   "execution_count": 4,
   "metadata": {
    "collapsed": false
   },
   "outputs": [],
   "source": [
    "usdjpy_curncy = pd.read_csv('./usdjpy_history.csv', parse_dates=[0], index_col=0)\n",
    "gbpjpy_curncy = pd.read_csv('./gbpjpy_history.csv', parse_dates=[0], index_col=0)\n",
    "\n",
    "merged_curncy = usdjpy_curncy.resample('M').last().merge(gbpjpy_curncy, right_index=True, left_index=True)\n",
    "merged_curncy.columns = ['USDJPY Curncy', 'GBPJPY Curncy']\n",
    "\n",
    "gbpusd_curncy = merged_curncy['GBPJPY Curncy'] / merged_curncy['USDJPY Curncy']\n",
    "gbpusd_curncy = gbpusd_curncy.pct_change()[1:].reset_index()\n",
    "gbpusd_curncy['Date Str'] = gbpusd_curncy['index'].apply(lambda x: str(x.year) + ' Q' + str((x.month - 1) // 3 + 1)) \n",
    "gbpusd_returns = gbpusd_curncy.groupby('Date Str').mean()"
   ]
  },
  {
   "cell_type": "code",
   "execution_count": 5,
   "metadata": {
    "collapsed": false
   },
   "outputs": [],
   "source": [
    "merged_data = inflation_pct.diff(axis=1).iloc[:, [-1]].merge(gbpusd_returns.shift(1), right_index=True, left_index=True)"
   ]
  },
  {
   "cell_type": "code",
   "execution_count": 6,
   "metadata": {
    "collapsed": false
   },
   "outputs": [],
   "source": [
    "total_data = merged_data.merge(pd.DataFrame(rate_diff), right_index=True, left_index=True)"
   ]
  },
  {
   "cell_type": "code",
   "execution_count": 7,
   "metadata": {
    "collapsed": false
   },
   "outputs": [
    {
     "data": {
      "text/plain": [
       "0.1182938917404418"
      ]
     },
     "execution_count": 7,
     "metadata": {},
     "output_type": "execute_result"
    }
   ],
   "source": [
    "from sklearn.linear_model import LinearRegression\n",
    "\n",
    "X = total_data.loc[:, ['US CPI', 'USD12MD156N']]\n",
    "y = total_data.loc[:, 0]\n",
    "\n",
    "lin_mod = LinearRegression(fit_intercept=True)\n",
    "_ = lin_mod.fit(X, y)\n",
    "lin_mod.score(X, y)"
   ]
  }
 ],
 "metadata": {
  "kernelspec": {
   "display_name": "Python [conda root]",
   "language": "python",
   "name": "conda-root-py"
  },
  "language_info": {
   "codemirror_mode": {
    "name": "ipython",
    "version": 3
   },
   "file_extension": ".py",
   "mimetype": "text/x-python",
   "name": "python",
   "nbconvert_exporter": "python",
   "pygments_lexer": "ipython3",
   "version": "3.5.2"
  }
 },
 "nbformat": 4,
 "nbformat_minor": 2
}
